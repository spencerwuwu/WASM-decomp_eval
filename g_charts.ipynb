{
 "cells": [
  {
   "cell_type": "code",
   "execution_count": 1,
   "id": "37257468",
   "metadata": {},
   "outputs": [],
   "source": [
    "import pandas as pd\n",
    "\n",
    "from statistics import mean\n",
    "import statistics\n",
    "import numpy as np\n",
    "import os\n",
    "import subprocess\n",
    "import re"
   ]
  },
  {
   "cell_type": "code",
   "execution_count": 2,
   "id": "65c39ca7",
   "metadata": {},
   "outputs": [],
   "source": [
    "\n",
    "import json\n",
    "with open(\"ast_results.json\", \"r\") as fd:\n",
    "    results = json.load(fd)"
   ]
  },
  {
   "cell_type": "code",
   "execution_count": 3,
   "id": "5bfa9b7c",
   "metadata": {},
   "outputs": [
    {
     "data": {
      "text/plain": [
       "{'opt': 0,\n",
       " 'filename': 'PL_2mm',\n",
       " 'results': {'kernel_2mm': {'w2c2': {'nqc': 0.015300023906287354,\n",
       "    'ted': 0.031051517290049402},\n",
       "   'wasm2c': {'nqc': 0.01562881562881563, 'ted': 0.017295219793418193}}}}"
      ]
     },
     "execution_count": 3,
     "metadata": {},
     "output_type": "execute_result"
    }
   ],
   "source": [
    "results[0]"
   ]
  },
  {
   "cell_type": "code",
   "execution_count": 17,
   "id": "169b254c",
   "metadata": {},
   "outputs": [
    {
     "name": "stdout",
     "output_type": "stream",
     "text": [
      "(0, 'w2c2') 147\n",
      "(0, 'wasm2c') 147\n",
      "(1, 'w2c2') 147\n",
      "(1, 'wasm2c') 147\n",
      "(2, 'w2c2') 147\n",
      "(2, 'wasm2c') 147\n"
     ]
    }
   ],
   "source": [
    "# First seperate OPT level and make sure all have the same entries\n",
    "\n",
    "opt_results = {}\n",
    "for data in results:\n",
    "    opt = data[\"opt\"]\n",
    "    filename = data[\"filename\"]\n",
    "    for func, result in data[\"results\"].items():\n",
    "        for tool in [\"w2c2\", \"wasm2c\"]:\n",
    "            if (opt, tool) not in opt_results:\n",
    "                opt_results[(opt, tool)] = []\n",
    "            opt_results[(opt, tool)].append(f\"{filename}:{func}\")\n",
    "    "
   ]
  },
  {
   "cell_type": "code",
   "execution_count": 47,
   "id": "c5c08002",
   "metadata": {},
   "outputs": [
    {
     "name": "stdout",
     "output_type": "stream",
     "text": [
      "                          w2c2                     wasm2c                    \n",
      "                           opt       nqc       ted    opt       nqc       ted\n",
      "func                                                                         \n",
      "PL_2mm:kernel_2mm:O0         0  0.015300  0.031052      0  0.015629  0.017295\n",
      "PL_3mm:kernel_3mm:O0         0  0.015374  0.031230      0  0.015731  0.016969\n",
      "adi:kernel_adi:O0            0  0.018179 -1.000000      0  0.018574 -1.000000\n",
      "adpcm:abs:O0                 0  0.050481  0.077803      0  0.051095  0.078704\n",
      "adpcm:encode:O0              0  0.060624 -1.000000      0  0.061121 -1.000000\n",
      "...                        ...       ...       ...    ...       ...       ...\n",
      "symm:kernel_symm:O2          2  0.065385  0.086228      2  0.066406  0.092345\n",
      "syr2k:kernel_syr2k:O2        2  0.040293  0.057844      2  0.039778  0.044248\n",
      "syrk:kernel_syrk:O2          2  0.026412  0.037116      2  0.025167  0.031677\n",
      "trisolv:kernel_trisolv:O2    2  0.027100  0.044796      2  0.027174  0.044914\n",
      "trmm:kernel_trmm:O2          2  0.040719  0.048165      2  0.040195  0.058275\n",
      "\n",
      "[441 rows x 6 columns]\n"
     ]
    }
   ],
   "source": [
    "func_results = {}\n",
    "\n",
    "\n",
    "for data in results:\n",
    "    opt = data[\"opt\"]\n",
    "    filename = data[\"filename\"]\n",
    "    for func, result in data[\"results\"].items():\n",
    "        func_name = f'{filename}:{func}:O{opt}'\n",
    "        if func_name not in func_results:\n",
    "            func_results[func_name] = {}\n",
    "        for tool in [\"w2c2\", \"wasm2c\"]:\n",
    "            func_results[func_name][tool] = { \"opt\": int(opt),\n",
    "                             \"nqc\": result[tool][\"nqc\"], \n",
    "                             \"ted\": result[tool][\"ted\"]}\n",
    "            #if result[tool][\"ted\"]< 0 and opt != 2:\n",
    "            #    print(opt, tool, func_name)\n",
    "\n",
    "func_names = []\n",
    "rows = []\n",
    "for func_name, columns in func_results.items():\n",
    "    func_names.append(func_name)\n",
    "    rows.append(columns)\n",
    "        \n",
    "d = pd.json_normalize(rows)\n",
    "df = pd.DataFrame(d)\n",
    "df.columns = df.columns.str.split('.', expand=True)\n",
    "# print(df.loc[0])\n",
    "df[\"func\"] = func_names\n",
    "df = df.set_index(\"func\")\n",
    "print(df)"
   ]
  },
  {
   "cell_type": "code",
   "execution_count": 52,
   "id": "cb24847c",
   "metadata": {},
   "outputs": [
    {
     "name": "stdout",
     "output_type": "stream",
     "text": [
      "0 w2c2 17\n",
      "0 wasm2c 29\n",
      "1 w2c2 14\n",
      "1 wasm2c 16\n",
      "2 w2c2 15\n",
      "2 wasm2c 17\n"
     ]
    }
   ],
   "source": [
    "for opt in [0,1,2]:\n",
    "    for tool in [\"w2c2\", \"wasm2c\"]:\n",
    "        cnt = df[tool][(df[tool][\"opt\"] == opt) & (df[tool][\"ted\"] < 0)][\"ted\"].count()\n",
    "        print(opt, tool, cnt)"
   ]
  },
  {
   "cell_type": "code",
   "execution_count": 58,
   "id": "e8b43885",
   "metadata": {},
   "outputs": [
    {
     "name": "stdout",
     "output_type": "stream",
     "text": [
      "╒════════╤═══════╤══════════════╤═════════════╤═══════════════╤═════════════╤═══════════════╤════════════╕\n",
      "│ Tool   │   Opt │   Total func │   NQC (avg) │   NQC (stdev) │   TED (avg) │   TED (stdev) │   TED (TO) │\n",
      "╞════════╪═══════╪══════════════╪═════════════╪═══════════════╪═════════════╪═══════════════╪════════════╡\n",
      "│ w2c2   │     0 │          147 │   0.16846   │     0.205529  │   0.182024  │     0.172026  │         17 │\n",
      "├────────┼───────┼──────────────┼─────────────┼───────────────┼─────────────┼───────────────┼────────────┤\n",
      "│ w2c2   │     1 │          147 │   0.229202  │     0.194485  │   0.231683  │     0.157311  │         14 │\n",
      "├────────┼───────┼──────────────┼─────────────┼───────────────┼─────────────┼───────────────┼────────────┤\n",
      "│ w2c2   │     2 │          147 │   0.22258   │     0.19972   │   0.222599  │     0.167707  │         15 │\n",
      "├────────┼───────┼──────────────┼─────────────┼───────────────┼─────────────┼───────────────┼────────────┤\n",
      "│ wasm2c │     0 │          147 │   0.0469061 │     0.0223699 │   0.0665628 │     0.0474537 │         29 │\n",
      "├────────┼───────┼──────────────┼─────────────┼───────────────┼─────────────┼───────────────┼────────────┤\n",
      "│ wasm2c │     1 │          147 │   0.198656  │     0.139314  │   0.198973  │     0.152207  │         16 │\n",
      "├────────┼───────┼──────────────┼─────────────┼───────────────┼─────────────┼───────────────┼────────────┤\n",
      "│ wasm2c │     2 │          147 │   0.194534  │     0.146814  │   0.204836  │     0.154077  │         17 │\n",
      "╘════════╧═══════╧══════════════╧═════════════╧═══════════════╧═════════════╧═══════════════╧════════════╛\n"
     ]
    }
   ],
   "source": [
    "from tabulate import tabulate\n",
    "\n",
    "table = [\n",
    "    [\"Tool\", \"Opt\", \"Total func\", \"NQC (avg)\", \"NQC (stdev)\", \"TED (avg)\", \"TED (stdev)\", \"TED (TO)\"]\n",
    "]\n",
    "for tool in [\"w2c2\", \"wasm2c\"]:\n",
    "    for opt in [0,1,2]:\n",
    "        opt_tool_df = df[tool][(df[tool][\"opt\"] == opt)]\n",
    "        cnt = opt_tool_df[\"opt\"].count()\n",
    "        avg_nqc = opt_tool_df[(opt_tool_df[\"nqc\"] > 0)][\"nqc\"].mean()\n",
    "        std_nqc = opt_tool_df[(opt_tool_df[\"nqc\"] > 0)][\"nqc\"].std()\n",
    "        avg_ted = opt_tool_df[(opt_tool_df[\"ted\"] > 0)][\"ted\"].mean()\n",
    "        std_ted = opt_tool_df[(opt_tool_df[\"ted\"] > 0)][\"ted\"].std()\n",
    "        cnt_ted = opt_tool_df[(opt_tool_df[\"ted\"] < 0)][\"ted\"].count()\n",
    "        table.append(\n",
    "            [tool, opt, cnt, avg_nqc,  std_nqc, avg_ted, std_ted, cnt_ted]\n",
    "        )\n",
    "print(tabulate(table, headers='firstrow', tablefmt='fancy_grid'))        "
   ]
  },
  {
   "cell_type": "code",
   "execution_count": null,
   "id": "e6161cbb",
   "metadata": {},
   "outputs": [],
   "source": []
  }
 ],
 "metadata": {
  "kernelspec": {
   "display_name": "Python 3 (ipykernel)",
   "language": "python",
   "name": "python3"
  },
  "language_info": {
   "codemirror_mode": {
    "name": "ipython",
    "version": 3
   },
   "file_extension": ".py",
   "mimetype": "text/x-python",
   "name": "python",
   "nbconvert_exporter": "python",
   "pygments_lexer": "ipython3",
   "version": "3.10.4"
  }
 },
 "nbformat": 4,
 "nbformat_minor": 5
}
